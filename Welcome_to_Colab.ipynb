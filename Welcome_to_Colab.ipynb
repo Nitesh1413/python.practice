{
  "cells": [
    {
      "cell_type": "markdown",
      "metadata": {
        "id": "view-in-github",
        "colab_type": "text"
      },
      "source": [
        "<a href=\"https://colab.research.google.com/github/Nitesh1413/python.practice/blob/main/Welcome_to_Colab.ipynb\" target=\"_parent\"><img src=\"https://colab.research.google.com/assets/colab-badge.svg\" alt=\"Open In Colab\"/></a>"
      ]
    },
    {
      "cell_type": "markdown",
      "source": [
        "Given an integer array nums, return the largest perimeter of a triangle with a non-zero area, formed from three of these lengths. If it is impossible to form any triangle of a non-zero area, return 0.\n",
        "\n",
        "\n",
        "\n",
        "Example 1:\n",
        "\n",
        "Input: nums = [2,1,2]\n",
        "Output: 5\n",
        "Explanation: You can form a triangle with three side lengths: 1, 2, and 2.\n",
        "Example 2:\n",
        "\n",
        "Input: nums = [1,2,1,10]\n",
        "Output: 0\n",
        "Explanation:\n",
        "You cannot use the side lengths 1, 1, and 2 to form a triangle.\n",
        "You cannot use the side lengths 1, 1, and 10 to form a triangle.\n",
        "You cannot use the side lengths 1, 2, and 10 to form a triangle.\n",
        "As we cannot use any three side lengths to form a triangle of non-zero area, we return 0.\n",
        "Constraints:\n",
        "\n",
        "3 <= nums.length <= 104\n",
        "1 <= nums[i] <= 106"
      ],
      "metadata": {
        "id": "5voKzbRu5Zzq"
      }
    },
    {
      "cell_type": "code",
      "source": [
        "s1=input()\n",
        "list1=[]\n",
        "for i in range(len(s1)):\n",
        "  s2=s1[i:]\n",
        "  for x in range(len(s2)):\n",
        "    for y in range(1,len(s2)):\n",
        "      if x+y>i and y+i>x and  i+x>y :\n",
        "        s=(x+y+i)/2\n",
        "        area=(s*(s-x)*(s-y)*(s-i))**0.5\n",
        "        list1.append(area)\n",
        "set1=set(list1)\n",
        "print(max(set1))\n",
        "\n"
      ],
      "metadata": {
        "id": "3PPX37AA5oY_",
        "outputId": "0181b362-0e04-4613-9943-bb4d0d4a4c93",
        "colab": {
          "base_uri": "https://localhost:8080/"
        }
      },
      "execution_count": 16,
      "outputs": [
        {
          "output_type": "stream",
          "name": "stdout",
          "text": [
            "[1,2,3,4,5,6,7]\n",
            "22.24859546128699\n"
          ]
        }
      ]
    }
  ],
  "metadata": {
    "colab": {
      "name": "Welcome to Colab",
      "toc_visible": true,
      "provenance": [],
      "include_colab_link": true
    },
    "kernelspec": {
      "display_name": "Python 3",
      "name": "python3"
    }
  },
  "nbformat": 4,
  "nbformat_minor": 0
}